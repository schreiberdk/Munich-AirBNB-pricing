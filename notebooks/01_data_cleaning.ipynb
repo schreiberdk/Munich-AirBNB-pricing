{
 "cells": [
  {
   "cell_type": "markdown",
   "id": "eb097d4a-d6e8-404f-8770-4b4b03dbc4f6",
   "metadata": {},
   "source": [
    "# Data Cleaning Notebook"
   ]
  },
  {
   "cell_type": "code",
   "execution_count": 59,
   "id": "4346cc7f-7cc8-4360-8eeb-7a77d428f560",
   "metadata": {},
   "outputs": [],
   "source": [
    "import pandas as pd\n",
    "import matplotlib.pyplot as plt\n",
    "import seaborn as sns\n",
    "import numpy as np\n",
    "from pathlib import Path"
   ]
  },
  {
   "cell_type": "markdown",
   "id": "f9891ef2-f002-4ffb-9697-6db45d777061",
   "metadata": {},
   "source": [
    "#### Set up plotting aesthetics"
   ]
  },
  {
   "cell_type": "code",
   "execution_count": 60,
   "id": "114741f1-5b13-4e03-852a-9dda5cf0d456",
   "metadata": {},
   "outputs": [],
   "source": [
    "sns.set(style=\"whitegrid\", palette=\"muted\", font_scale=1.1)"
   ]
  },
  {
   "cell_type": "markdown",
   "id": "64fc2139-1fe9-46bb-bc2e-a64fd1e31e96",
   "metadata": {},
   "source": [
    "#### Load the data"
   ]
  },
  {
   "cell_type": "code",
   "execution_count": 61,
   "id": "d52153fa-426f-4e9b-ae68-d5932080f6b9",
   "metadata": {},
   "outputs": [],
   "source": [
    "data_path = Path(\"../data/listings.csv\")  # adjust if needed\n",
    "df = pd.read_csv(data_path)"
   ]
  },
  {
   "cell_type": "markdown",
   "id": "e6fa832b-ecf7-4ba7-b9c6-dc7aa9b3c5a1",
   "metadata": {},
   "source": [
    "#### Preview the data"
   ]
  },
  {
   "cell_type": "code",
   "execution_count": 62,
   "id": "619fc0fa-73cc-4bb7-9530-73e94f415c78",
   "metadata": {},
   "outputs": [
    {
     "name": "stdout",
     "output_type": "stream",
     "text": [
      "Shape: (7281, 18)\n"
     ]
    },
    {
     "data": {
      "text/html": [
       "<div>\n",
       "<style scoped>\n",
       "    .dataframe tbody tr th:only-of-type {\n",
       "        vertical-align: middle;\n",
       "    }\n",
       "\n",
       "    .dataframe tbody tr th {\n",
       "        vertical-align: top;\n",
       "    }\n",
       "\n",
       "    .dataframe thead th {\n",
       "        text-align: right;\n",
       "    }\n",
       "</style>\n",
       "<table border=\"1\" class=\"dataframe\">\n",
       "  <thead>\n",
       "    <tr style=\"text-align: right;\">\n",
       "      <th></th>\n",
       "      <th>id</th>\n",
       "      <th>name</th>\n",
       "      <th>host_id</th>\n",
       "      <th>host_name</th>\n",
       "      <th>neighbourhood_group</th>\n",
       "      <th>neighbourhood</th>\n",
       "      <th>latitude</th>\n",
       "      <th>longitude</th>\n",
       "      <th>room_type</th>\n",
       "      <th>price</th>\n",
       "      <th>minimum_nights</th>\n",
       "      <th>number_of_reviews</th>\n",
       "      <th>last_review</th>\n",
       "      <th>reviews_per_month</th>\n",
       "      <th>calculated_host_listings_count</th>\n",
       "      <th>availability_365</th>\n",
       "      <th>number_of_reviews_ltm</th>\n",
       "      <th>license</th>\n",
       "    </tr>\n",
       "  </thead>\n",
       "  <tbody>\n",
       "    <tr>\n",
       "      <th>0</th>\n",
       "      <td>97945</td>\n",
       "      <td>Deluxw-Apartm. with roof terrace</td>\n",
       "      <td>517685</td>\n",
       "      <td>Angelika</td>\n",
       "      <td>NaN</td>\n",
       "      <td>Hadern</td>\n",
       "      <td>48.11492</td>\n",
       "      <td>11.48954</td>\n",
       "      <td>Entire home/apt</td>\n",
       "      <td>95.0</td>\n",
       "      <td>2</td>\n",
       "      <td>126</td>\n",
       "      <td>2019-10-03</td>\n",
       "      <td>0.78</td>\n",
       "      <td>2</td>\n",
       "      <td>116</td>\n",
       "      <td>0</td>\n",
       "      <td>NaN</td>\n",
       "    </tr>\n",
       "    <tr>\n",
       "      <th>1</th>\n",
       "      <td>114695</td>\n",
       "      <td>Apartment Munich/East with sundeck</td>\n",
       "      <td>581737</td>\n",
       "      <td>Stephan</td>\n",
       "      <td>NaN</td>\n",
       "      <td>Berg am Laim</td>\n",
       "      <td>48.12071</td>\n",
       "      <td>11.63758</td>\n",
       "      <td>Entire home/apt</td>\n",
       "      <td>105.0</td>\n",
       "      <td>2</td>\n",
       "      <td>78</td>\n",
       "      <td>2024-10-09</td>\n",
       "      <td>0.48</td>\n",
       "      <td>3</td>\n",
       "      <td>167</td>\n",
       "      <td>12</td>\n",
       "      <td>NaN</td>\n",
       "    </tr>\n",
       "    <tr>\n",
       "      <th>2</th>\n",
       "      <td>127383</td>\n",
       "      <td>City apartment next to Pinakothek</td>\n",
       "      <td>630556</td>\n",
       "      <td>Sonja</td>\n",
       "      <td>NaN</td>\n",
       "      <td>Maxvorstadt</td>\n",
       "      <td>48.15199</td>\n",
       "      <td>11.56482</td>\n",
       "      <td>Entire home/apt</td>\n",
       "      <td>140.0</td>\n",
       "      <td>4</td>\n",
       "      <td>115</td>\n",
       "      <td>2024-08-18</td>\n",
       "      <td>0.70</td>\n",
       "      <td>1</td>\n",
       "      <td>19</td>\n",
       "      <td>4</td>\n",
       "      <td>NaN</td>\n",
       "    </tr>\n",
       "    <tr>\n",
       "      <th>3</th>\n",
       "      <td>159634</td>\n",
       "      <td>Fancy, bright central roof top flat and homeof...</td>\n",
       "      <td>765694</td>\n",
       "      <td>Susana</td>\n",
       "      <td>NaN</td>\n",
       "      <td>Pasing-Obermenzing</td>\n",
       "      <td>48.13855</td>\n",
       "      <td>11.46586</td>\n",
       "      <td>Entire home/apt</td>\n",
       "      <td>NaN</td>\n",
       "      <td>4</td>\n",
       "      <td>44</td>\n",
       "      <td>2024-12-21</td>\n",
       "      <td>0.27</td>\n",
       "      <td>1</td>\n",
       "      <td>3</td>\n",
       "      <td>7</td>\n",
       "      <td>NaN</td>\n",
       "    </tr>\n",
       "    <tr>\n",
       "      <th>4</th>\n",
       "      <td>170154</td>\n",
       "      <td>Own floor &amp; bath, parking &amp; breakfast</td>\n",
       "      <td>108297</td>\n",
       "      <td>Alex</td>\n",
       "      <td>NaN</td>\n",
       "      <td>Sendling-Westpark</td>\n",
       "      <td>48.10814</td>\n",
       "      <td>11.52733</td>\n",
       "      <td>Private room</td>\n",
       "      <td>70.0</td>\n",
       "      <td>3</td>\n",
       "      <td>573</td>\n",
       "      <td>2024-12-11</td>\n",
       "      <td>3.55</td>\n",
       "      <td>1</td>\n",
       "      <td>156</td>\n",
       "      <td>27</td>\n",
       "      <td>NaN</td>\n",
       "    </tr>\n",
       "  </tbody>\n",
       "</table>\n",
       "</div>"
      ],
      "text/plain": [
       "       id                                               name  host_id  \\\n",
       "0   97945                   Deluxw-Apartm. with roof terrace   517685   \n",
       "1  114695                 Apartment Munich/East with sundeck   581737   \n",
       "2  127383                  City apartment next to Pinakothek   630556   \n",
       "3  159634  Fancy, bright central roof top flat and homeof...   765694   \n",
       "4  170154              Own floor & bath, parking & breakfast   108297   \n",
       "\n",
       "  host_name  neighbourhood_group       neighbourhood  latitude  longitude  \\\n",
       "0  Angelika                  NaN              Hadern  48.11492   11.48954   \n",
       "1   Stephan                  NaN        Berg am Laim  48.12071   11.63758   \n",
       "2     Sonja                  NaN         Maxvorstadt  48.15199   11.56482   \n",
       "3    Susana                  NaN  Pasing-Obermenzing  48.13855   11.46586   \n",
       "4      Alex                  NaN   Sendling-Westpark  48.10814   11.52733   \n",
       "\n",
       "         room_type  price  minimum_nights  number_of_reviews last_review  \\\n",
       "0  Entire home/apt   95.0               2                126  2019-10-03   \n",
       "1  Entire home/apt  105.0               2                 78  2024-10-09   \n",
       "2  Entire home/apt  140.0               4                115  2024-08-18   \n",
       "3  Entire home/apt    NaN               4                 44  2024-12-21   \n",
       "4     Private room   70.0               3                573  2024-12-11   \n",
       "\n",
       "   reviews_per_month  calculated_host_listings_count  availability_365  \\\n",
       "0               0.78                               2               116   \n",
       "1               0.48                               3               167   \n",
       "2               0.70                               1                19   \n",
       "3               0.27                               1                 3   \n",
       "4               3.55                               1               156   \n",
       "\n",
       "   number_of_reviews_ltm license  \n",
       "0                      0     NaN  \n",
       "1                     12     NaN  \n",
       "2                      4     NaN  \n",
       "3                      7     NaN  \n",
       "4                     27     NaN  "
      ]
     },
     "execution_count": 62,
     "metadata": {},
     "output_type": "execute_result"
    }
   ],
   "source": [
    "print(\"Shape:\", df.shape)\n",
    "df.head()"
   ]
  },
  {
   "cell_type": "markdown",
   "id": "d6d2477e-15fe-4d96-ab67-672fdb61fbc6",
   "metadata": {},
   "source": [
    "#### Keep relevant columns"
   ]
  },
  {
   "cell_type": "code",
   "execution_count": 63,
   "id": "ee949476-3c0c-4837-928a-db364eda4c73",
   "metadata": {},
   "outputs": [],
   "source": [
    "keep_cols = [\n",
    "    \"id\", \"name\", \"neighbourhood\", \"latitude\", \"longitude\", \"room_type\",\n",
    "    \"price\", \"minimum_nights\", \"availability_365\", \"number_of_reviews\",\n",
    "    \"last_review\",\n",
    "]\n",
    "df = df[keep_cols]"
   ]
  },
  {
   "cell_type": "markdown",
   "id": "834d9557-9c80-4703-8c64-96eb1242eb28",
   "metadata": {},
   "source": [
    "#### Convert price to numeric (remove $/€/comma and convert to float)"
   ]
  },
  {
   "cell_type": "code",
   "execution_count": 64,
   "id": "ed84c539-d67a-45b4-9928-3cf3123e69dd",
   "metadata": {},
   "outputs": [],
   "source": [
    "df['price'] = df['price'].replace('[$,€]', '', regex=True).astype(float)"
   ]
  },
  {
   "cell_type": "markdown",
   "id": "e7c5264c-685c-4036-8a42-a7599087cf4e",
   "metadata": {},
   "source": [
    "#### Drop rows with missing or 0 prices"
   ]
  },
  {
   "cell_type": "code",
   "execution_count": 65,
   "id": "ec442b96-d038-4002-902a-ad69d0c704d6",
   "metadata": {},
   "outputs": [],
   "source": [
    "df = df[df['price'] > 0]"
   ]
  },
  {
   "cell_type": "markdown",
   "id": "e48fb6a6-2045-4f47-84fc-47a4e4050763",
   "metadata": {},
   "source": [
    "#### Convert date columns"
   ]
  },
  {
   "cell_type": "code",
   "execution_count": 66,
   "id": "4cf0db14-1de3-4a98-895f-ca920143bdcc",
   "metadata": {},
   "outputs": [],
   "source": [
    "df['last_review'] = pd.to_datetime(df['last_review'])"
   ]
  },
  {
   "cell_type": "markdown",
   "id": "9ffa69b7-d6eb-4d90-a6f0-dcd326c7faab",
   "metadata": {},
   "source": [
    "#### Save cleaned version (optional)"
   ]
  },
  {
   "cell_type": "code",
   "execution_count": 67,
   "id": "038b8fd5-8a47-4560-994b-664a0b8fe5ef",
   "metadata": {},
   "outputs": [],
   "source": [
    "df.to_csv(\"../data/listings_cleaned.csv\", index=False)"
   ]
  },
  {
   "cell_type": "markdown",
   "id": "29b43191-bdd8-4e86-8da9-2bff81849dd1",
   "metadata": {},
   "source": [
    "#### Simple price distribution plot"
   ]
  },
  {
   "cell_type": "code",
   "execution_count": 68,
   "id": "4162308a-21f9-46c3-a597-33459073aaba",
   "metadata": {},
   "outputs": [
    {
     "data": {
      "image/png": "[encoded data removed]",
      "text/plain": [
       "<Figure size 1000x500 with 1 Axes>"
      ]
     },
     "metadata": {},
     "output_type": "display_data"
    }
   ],
   "source": [
    "plt.figure(figsize=(10, 5))\n",
    "sns.histplot(df['price'], bins=400, kde=True)\n",
    "plt.xlim(0, 800)  # limit to avoid extreme outliers\n",
    "plt.title(\"Airbnb Price Distribution in Munich\")\n",
    "plt.xlabel(\"Price (€)\")\n",
    "plt.ylabel(\"Frequency\")\n",
    "plt.tight_layout()\n",
    "plt.show()"
   ]
  },
  {
   "cell_type": "markdown",
   "id": "fe3d33de-7cc6-4926-965c-40d38837e2af",
   "metadata": {},
   "source": [
    "#### Look at data from my own neighbourhood"
   ]
  },
  {
   "cell_type": "code",
   "execution_count": 72,
   "id": "41409da5-dabd-496b-b34c-53f2f19fc784",
   "metadata": {},
   "outputs": [
    {
     "data": {
      "text/plain": [
       "array(['Hadern', 'Berg am Laim', 'Maxvorstadt', 'Sendling-Westpark',\n",
       "       'Neuhausen-Nymphenburg', 'Schwanthalerhöhe', 'Au-Haidhausen',\n",
       "       'Ludwigsvorstadt-Isarvorstadt', 'Schwabing-West',\n",
       "       'Ramersdorf-Perlach', 'Untergiesing-Harlaching', 'Obergiesing',\n",
       "       'Schwabing-Freimann', 'Tudering-Riem', 'Bogenhausen',\n",
       "       'Feldmoching-Hasenbergl',\n",
       "       'Thalkirchen-Obersendling-Forstenried-Fürstenried-Solln',\n",
       "       'Pasing-Obermenzing', 'Milbertshofen-Am Hart', 'Sendling', 'Laim',\n",
       "       'Altstadt-Lehel', 'Moosach', 'Aubing-Lochhausen-Langwied',\n",
       "       'Allach-Untermenzing'], dtype=object)"
      ]
     },
     "execution_count": 72,
     "metadata": {},
     "output_type": "execute_result"
    }
   ],
   "source": [
    "df['neighbourhood'].unique()"
   ]
  },
  {
   "cell_type": "code",
   "execution_count": 77,
   "id": "d3d7b7a9-23a9-43f2-acf7-402dc506d28f",
   "metadata": {},
   "outputs": [
    {
     "data": {
      "text/plain": [
       "1200.0"
      ]
     },
     "execution_count": 77,
     "metadata": {},
     "output_type": "execute_result"
    }
   ],
   "source": [
    "max(df[df['neighbourhood'] == 'Obergiesing']['price'])"
   ]
  },
  {
   "cell_type": "code",
   "execution_count": 78,
   "id": "ca1c0586-0232-4d48-86e0-bd62b8a9fdba",
   "metadata": {},
   "outputs": [
    {
     "data": {
      "text/html": [
       "<div>\n",
       "<style scoped>\n",
       "    .dataframe tbody tr th:only-of-type {\n",
       "        vertical-align: middle;\n",
       "    }\n",
       "\n",
       "    .dataframe tbody tr th {\n",
       "        vertical-align: top;\n",
       "    }\n",
       "\n",
       "    .dataframe thead th {\n",
       "        text-align: right;\n",
       "    }\n",
       "</style>\n",
       "<table border=\"1\" class=\"dataframe\">\n",
       "  <thead>\n",
       "    <tr style=\"text-align: right;\">\n",
       "      <th></th>\n",
       "      <th>id</th>\n",
       "      <th>name</th>\n",
       "      <th>neighbourhood</th>\n",
       "      <th>latitude</th>\n",
       "      <th>longitude</th>\n",
       "      <th>room_type</th>\n",
       "      <th>price</th>\n",
       "      <th>minimum_nights</th>\n",
       "      <th>availability_365</th>\n",
       "      <th>number_of_reviews</th>\n",
       "      <th>last_review</th>\n",
       "    </tr>\n",
       "  </thead>\n",
       "  <tbody>\n",
       "    <tr>\n",
       "      <th>281</th>\n",
       "      <td>3500931</td>\n",
       "      <td>Great flat for Oktoberfest - for couples or 4</td>\n",
       "      <td>Obergiesing</td>\n",
       "      <td>48.11622</td>\n",
       "      <td>11.5824</td>\n",
       "      <td>Entire home/apt</td>\n",
       "      <td>1200.0</td>\n",
       "      <td>28</td>\n",
       "      <td>364</td>\n",
       "      <td>13</td>\n",
       "      <td>2019-09-22</td>\n",
       "    </tr>\n",
       "  </tbody>\n",
       "</table>\n",
       "</div>"
      ],
      "text/plain": [
       "          id                                           name neighbourhood  \\\n",
       "281  3500931  Great flat for Oktoberfest - for couples or 4   Obergiesing   \n",
       "\n",
       "     latitude  longitude        room_type   price  minimum_nights  \\\n",
       "281  48.11622    11.5824  Entire home/apt  1200.0              28   \n",
       "\n",
       "     availability_365  number_of_reviews last_review  \n",
       "281               364                 13  2019-09-22  "
      ]
     },
     "execution_count": 78,
     "metadata": {},
     "output_type": "execute_result"
    }
   ],
   "source": [
    "df[(df['neighbourhood'] == 'Obergiesing') & (df['price'] == 1200)]"
   ]
  },
  {
   "cell_type": "code",
   "execution_count": 74,
   "id": "615969bd-2d25-4c40-b4b2-05c0c1cfd945",
   "metadata": {},
   "outputs": [
    {
     "data": {
      "image/png": "[encoded data removed]",
      "text/plain": [
       "<Figure size 1000x500 with 1 Axes>"
      ]
     },
     "metadata": {},
     "output_type": "display_data"
    }
   ],
   "source": [
    "# Simple price distribution plot\n",
    "plt.figure(figsize=(10, 5))\n",
    "sns.histplot(df[df['neighbourhood'] == 'Obergiesing']['price'], bins=75, kde=True)\n",
    "plt.xlim(0, 500)  # limit to avoid extreme outliers\n",
    "plt.title(\"Airbnb Price Distribution in Obergiesing\")\n",
    "plt.xlabel(\"Price (€)\")\n",
    "plt.ylabel(\"Frequency\")\n",
    "plt.tight_layout()\n",
    "plt.show()"
   ]
  },
  {
   "cell_type": "code",
   "execution_count": 54,
   "id": "adf2cfa5-24ff-4774-9985-fe40512930f2",
   "metadata": {},
   "outputs": [
    {
     "data": {
      "text/html": [
       "<div>\n",
       "<style scoped>\n",
       "    .dataframe tbody tr th:only-of-type {\n",
       "        vertical-align: middle;\n",
       "    }\n",
       "\n",
       "    .dataframe tbody tr th {\n",
       "        vertical-align: top;\n",
       "    }\n",
       "\n",
       "    .dataframe thead th {\n",
       "        text-align: right;\n",
       "    }\n",
       "</style>\n",
       "<table border=\"1\" class=\"dataframe\">\n",
       "  <thead>\n",
       "    <tr style=\"text-align: right;\">\n",
       "      <th></th>\n",
       "      <th>id</th>\n",
       "      <th>name</th>\n",
       "      <th>neighbourhood</th>\n",
       "      <th>latitude</th>\n",
       "      <th>longitude</th>\n",
       "      <th>room_type</th>\n",
       "      <th>price</th>\n",
       "      <th>minimum_nights</th>\n",
       "      <th>availability_365</th>\n",
       "      <th>number_of_reviews</th>\n",
       "      <th>last_review</th>\n",
       "    </tr>\n",
       "  </thead>\n",
       "  <tbody>\n",
       "    <tr>\n",
       "      <th>281</th>\n",
       "      <td>3500931</td>\n",
       "      <td>Great flat for Oktoberfest - for couples or 4</td>\n",
       "      <td>Obergiesing</td>\n",
       "      <td>48.11622</td>\n",
       "      <td>11.5824</td>\n",
       "      <td>Entire home/apt</td>\n",
       "      <td>1200.0</td>\n",
       "      <td>28</td>\n",
       "      <td>364</td>\n",
       "      <td>13</td>\n",
       "      <td>2019-09-22</td>\n",
       "    </tr>\n",
       "  </tbody>\n",
       "</table>\n",
       "</div>"
      ],
      "text/plain": [
       "          id                                           name neighbourhood  \\\n",
       "281  3500931  Great flat for Oktoberfest - for couples or 4   Obergiesing   \n",
       "\n",
       "     latitude  longitude        room_type   price  minimum_nights  \\\n",
       "281  48.11622    11.5824  Entire home/apt  1200.0              28   \n",
       "\n",
       "     availability_365  number_of_reviews last_review  \n",
       "281               364                 13  2019-09-22  "
      ]
     },
     "execution_count": 54,
     "metadata": {},
     "output_type": "execute_result"
    }
   ],
   "source": []
  },
  {
   "cell_type": "code",
   "execution_count": null,
   "id": "820fd322-a640-40d4-9f11-bc4586b8028c",
   "metadata": {},
   "outputs": [],
   "source": []
  }
 ],
 "metadata": {
  "kernelspec": {
   "display_name": "Python 3 (ipykernel)",
   "language": "python",
   "name": "python3"
  },
  "language_info": {
   "codemirror_mode": {
    "name": "ipython",
    "version": 3
   },
   "file_extension": ".py",
   "mimetype": "text/x-python",
   "name": "python",
   "nbconvert_exporter": "python",
   "pygments_lexer": "ipython3",
   "version": "3.13.0"
  }
 },
 "nbformat": 4,
 "nbformat_minor": 5
}
